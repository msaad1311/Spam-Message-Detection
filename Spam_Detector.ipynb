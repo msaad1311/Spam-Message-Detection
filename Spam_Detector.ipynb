{
  "nbformat": 4,
  "nbformat_minor": 0,
  "metadata": {
    "kernelspec": {
      "name": "python3",
      "display_name": "Python 3"
    },
    "language_info": {
      "codemirror_mode": {
        "name": "ipython",
        "version": 3
      },
      "file_extension": ".py",
      "mimetype": "text/x-python",
      "name": "python",
      "nbconvert_exporter": "python",
      "pygments_lexer": "ipython3",
      "version": "3.7.6"
    },
    "colab": {
      "name": "Spam Detector.ipynb",
      "provenance": [],
      "collapsed_sections": [],
      "include_colab_link": true
    },
    "accelerator": "TPU"
  },
  "cells": [
    {
      "cell_type": "markdown",
      "metadata": {
        "id": "view-in-github",
        "colab_type": "text"
      },
      "source": [
        "<a href=\"https://colab.research.google.com/github/msaad1311/Spam-Message-Detection/blob/master/Spam_Detector.ipynb\" target=\"_parent\"><img src=\"https://colab.research.google.com/assets/colab-badge.svg\" alt=\"Open In Colab\"/></a>"
      ]
    },
    {
      "cell_type": "code",
      "metadata": {
        "id": "V1YPK3gaZknX",
        "colab_type": "code",
        "colab": {}
      },
      "source": [
        "import numpy as np\n",
        "import pandas as pd\n",
        "import spacy\n",
        "# nlp = spacy.load('en_core_web_lg')"
      ],
      "execution_count": 0,
      "outputs": []
    },
    {
      "cell_type": "code",
      "metadata": {
        "scrolled": true,
        "id": "S-ugXQnLZknd",
        "colab_type": "code",
        "outputId": "05e40d37-f7ea-4df1-d7af-c17cd922bfcc",
        "colab": {
          "base_uri": "https://localhost:8080/",
          "height": 198
        }
      },
      "source": [
        "df =pd.read_csv('spam.csv',encoding='latin-1')\n",
        "df.head()"
      ],
      "execution_count": 0,
      "outputs": [
        {
          "output_type": "execute_result",
          "data": {
            "text/html": [
              "<div>\n",
              "<style scoped>\n",
              "    .dataframe tbody tr th:only-of-type {\n",
              "        vertical-align: middle;\n",
              "    }\n",
              "\n",
              "    .dataframe tbody tr th {\n",
              "        vertical-align: top;\n",
              "    }\n",
              "\n",
              "    .dataframe thead th {\n",
              "        text-align: right;\n",
              "    }\n",
              "</style>\n",
              "<table border=\"1\" class=\"dataframe\">\n",
              "  <thead>\n",
              "    <tr style=\"text-align: right;\">\n",
              "      <th></th>\n",
              "      <th>v1</th>\n",
              "      <th>v2</th>\n",
              "      <th>Unnamed: 2</th>\n",
              "      <th>Unnamed: 3</th>\n",
              "      <th>Unnamed: 4</th>\n",
              "    </tr>\n",
              "  </thead>\n",
              "  <tbody>\n",
              "    <tr>\n",
              "      <th>0</th>\n",
              "      <td>ham</td>\n",
              "      <td>Go until jurong point, crazy.. Available only ...</td>\n",
              "      <td>NaN</td>\n",
              "      <td>NaN</td>\n",
              "      <td>NaN</td>\n",
              "    </tr>\n",
              "    <tr>\n",
              "      <th>1</th>\n",
              "      <td>ham</td>\n",
              "      <td>Ok lar... Joking wif u oni...</td>\n",
              "      <td>NaN</td>\n",
              "      <td>NaN</td>\n",
              "      <td>NaN</td>\n",
              "    </tr>\n",
              "    <tr>\n",
              "      <th>2</th>\n",
              "      <td>spam</td>\n",
              "      <td>Free entry in 2 a wkly comp to win FA Cup fina...</td>\n",
              "      <td>NaN</td>\n",
              "      <td>NaN</td>\n",
              "      <td>NaN</td>\n",
              "    </tr>\n",
              "    <tr>\n",
              "      <th>3</th>\n",
              "      <td>ham</td>\n",
              "      <td>U dun say so early hor... U c already then say...</td>\n",
              "      <td>NaN</td>\n",
              "      <td>NaN</td>\n",
              "      <td>NaN</td>\n",
              "    </tr>\n",
              "    <tr>\n",
              "      <th>4</th>\n",
              "      <td>ham</td>\n",
              "      <td>Nah I don't think he goes to usf, he lives aro...</td>\n",
              "      <td>NaN</td>\n",
              "      <td>NaN</td>\n",
              "      <td>NaN</td>\n",
              "    </tr>\n",
              "  </tbody>\n",
              "</table>\n",
              "</div>"
            ],
            "text/plain": [
              "     v1  ... Unnamed: 4\n",
              "0   ham  ...        NaN\n",
              "1   ham  ...        NaN\n",
              "2  spam  ...        NaN\n",
              "3   ham  ...        NaN\n",
              "4   ham  ...        NaN\n",
              "\n",
              "[5 rows x 5 columns]"
            ]
          },
          "metadata": {
            "tags": []
          },
          "execution_count": 3
        }
      ]
    },
    {
      "cell_type": "code",
      "metadata": {
        "scrolled": true,
        "id": "8fKdYu7IZkni",
        "colab_type": "code",
        "colab": {}
      },
      "source": [
        "df.drop(columns=['Unnamed: 2', 'Unnamed: 3', 'Unnamed: 4'],axis=1,inplace=True)"
      ],
      "execution_count": 0,
      "outputs": []
    },
    {
      "cell_type": "code",
      "metadata": {
        "id": "_0gYlfB_Zknl",
        "colab_type": "code",
        "outputId": "1f2b6d90-8b5d-4594-ab22-2a1eb7851860",
        "colab": {
          "base_uri": "https://localhost:8080/",
          "height": 198
        }
      },
      "source": [
        "df.head()\n"
      ],
      "execution_count": 0,
      "outputs": [
        {
          "output_type": "execute_result",
          "data": {
            "text/html": [
              "<div>\n",
              "<style scoped>\n",
              "    .dataframe tbody tr th:only-of-type {\n",
              "        vertical-align: middle;\n",
              "    }\n",
              "\n",
              "    .dataframe tbody tr th {\n",
              "        vertical-align: top;\n",
              "    }\n",
              "\n",
              "    .dataframe thead th {\n",
              "        text-align: right;\n",
              "    }\n",
              "</style>\n",
              "<table border=\"1\" class=\"dataframe\">\n",
              "  <thead>\n",
              "    <tr style=\"text-align: right;\">\n",
              "      <th></th>\n",
              "      <th>v1</th>\n",
              "      <th>v2</th>\n",
              "    </tr>\n",
              "  </thead>\n",
              "  <tbody>\n",
              "    <tr>\n",
              "      <th>0</th>\n",
              "      <td>ham</td>\n",
              "      <td>Go until jurong point, crazy.. Available only ...</td>\n",
              "    </tr>\n",
              "    <tr>\n",
              "      <th>1</th>\n",
              "      <td>ham</td>\n",
              "      <td>Ok lar... Joking wif u oni...</td>\n",
              "    </tr>\n",
              "    <tr>\n",
              "      <th>2</th>\n",
              "      <td>spam</td>\n",
              "      <td>Free entry in 2 a wkly comp to win FA Cup fina...</td>\n",
              "    </tr>\n",
              "    <tr>\n",
              "      <th>3</th>\n",
              "      <td>ham</td>\n",
              "      <td>U dun say so early hor... U c already then say...</td>\n",
              "    </tr>\n",
              "    <tr>\n",
              "      <th>4</th>\n",
              "      <td>ham</td>\n",
              "      <td>Nah I don't think he goes to usf, he lives aro...</td>\n",
              "    </tr>\n",
              "  </tbody>\n",
              "</table>\n",
              "</div>"
            ],
            "text/plain": [
              "     v1                                                 v2\n",
              "0   ham  Go until jurong point, crazy.. Available only ...\n",
              "1   ham                      Ok lar... Joking wif u oni...\n",
              "2  spam  Free entry in 2 a wkly comp to win FA Cup fina...\n",
              "3   ham  U dun say so early hor... U c already then say...\n",
              "4   ham  Nah I don't think he goes to usf, he lives aro..."
            ]
          },
          "metadata": {
            "tags": []
          },
          "execution_count": 5
        }
      ]
    },
    {
      "cell_type": "code",
      "metadata": {
        "scrolled": false,
        "id": "0EpIGNvZZkno",
        "colab_type": "code",
        "outputId": "28d3012d-4f8c-4388-89f2-58e6695bb5ea",
        "colab": {
          "base_uri": "https://localhost:8080/",
          "height": 69
        }
      },
      "source": [
        "(df['v1'].value_counts()/len(df))*100"
      ],
      "execution_count": 0,
      "outputs": [
        {
          "output_type": "execute_result",
          "data": {
            "text/plain": [
              "ham     86.593683\n",
              "spam    13.406317\n",
              "Name: v1, dtype: float64"
            ]
          },
          "metadata": {
            "tags": []
          },
          "execution_count": 6
        }
      ]
    },
    {
      "cell_type": "code",
      "metadata": {
        "id": "W7b8CNJYZknq",
        "colab_type": "code",
        "colab": {}
      },
      "source": [
        "df_spam = df[df.v1=='spam']"
      ],
      "execution_count": 0,
      "outputs": []
    },
    {
      "cell_type": "code",
      "metadata": {
        "id": "D2sNJ-mnZkns",
        "colab_type": "code",
        "outputId": "997a8e01-0176-455c-984d-390fe855d72a",
        "colab": {
          "base_uri": "https://localhost:8080/",
          "height": 35
        }
      },
      "source": [
        "len(df_spam)"
      ],
      "execution_count": 0,
      "outputs": [
        {
          "output_type": "execute_result",
          "data": {
            "text/plain": [
              "747"
            ]
          },
          "metadata": {
            "tags": []
          },
          "execution_count": 8
        }
      ]
    },
    {
      "cell_type": "code",
      "metadata": {
        "id": "aLEN3pahZknv",
        "colab_type": "code",
        "outputId": "e244b682-8904-4c3c-f5fb-02915ccb19a3",
        "colab": {
          "base_uri": "https://localhost:8080/",
          "height": 121
        }
      },
      "source": [
        "df_ham=df[df.v1=='ham']\n",
        "len(df_ham),df_ham.head()"
      ],
      "execution_count": 0,
      "outputs": [
        {
          "output_type": "execute_result",
          "data": {
            "text/plain": [
              "(4825,     v1                                                 v2\n",
              " 0  ham  Go until jurong point, crazy.. Available only ...\n",
              " 1  ham                      Ok lar... Joking wif u oni...\n",
              " 3  ham  U dun say so early hor... U c already then say...\n",
              " 4  ham  Nah I don't think he goes to usf, he lives aro...\n",
              " 6  ham  Even my brother is not like to speak with me. ...)"
            ]
          },
          "metadata": {
            "tags": []
          },
          "execution_count": 9
        }
      ]
    },
    {
      "cell_type": "code",
      "metadata": {
        "id": "1dihkinyZknx",
        "colab_type": "code",
        "outputId": "75f09208-18c1-4848-ea7e-8a744525e219",
        "colab": {
          "base_uri": "https://localhost:8080/",
          "height": 35
        }
      },
      "source": [
        "df_ham=df_ham.sample(frac =0.15481,random_state=42)\n",
        "len(df_ham)"
      ],
      "execution_count": 0,
      "outputs": [
        {
          "output_type": "execute_result",
          "data": {
            "text/plain": [
              "747"
            ]
          },
          "metadata": {
            "tags": []
          },
          "execution_count": 10
        }
      ]
    },
    {
      "cell_type": "code",
      "metadata": {
        "id": "npn2zwKsZknz",
        "colab_type": "code",
        "colab": {}
      },
      "source": [
        "df_com = pd.concat([df_spam,df_ham])"
      ],
      "execution_count": 0,
      "outputs": []
    },
    {
      "cell_type": "code",
      "metadata": {
        "id": "MtYpbJQFZkn1",
        "colab_type": "code",
        "outputId": "df904a11-d30a-4fd9-82fd-5e49c35cdf84",
        "colab": {
          "base_uri": "https://localhost:8080/",
          "height": 198
        }
      },
      "source": [
        "df_com.head()"
      ],
      "execution_count": 0,
      "outputs": [
        {
          "output_type": "execute_result",
          "data": {
            "text/html": [
              "<div>\n",
              "<style scoped>\n",
              "    .dataframe tbody tr th:only-of-type {\n",
              "        vertical-align: middle;\n",
              "    }\n",
              "\n",
              "    .dataframe tbody tr th {\n",
              "        vertical-align: top;\n",
              "    }\n",
              "\n",
              "    .dataframe thead th {\n",
              "        text-align: right;\n",
              "    }\n",
              "</style>\n",
              "<table border=\"1\" class=\"dataframe\">\n",
              "  <thead>\n",
              "    <tr style=\"text-align: right;\">\n",
              "      <th></th>\n",
              "      <th>v1</th>\n",
              "      <th>v2</th>\n",
              "    </tr>\n",
              "  </thead>\n",
              "  <tbody>\n",
              "    <tr>\n",
              "      <th>2</th>\n",
              "      <td>spam</td>\n",
              "      <td>Free entry in 2 a wkly comp to win FA Cup fina...</td>\n",
              "    </tr>\n",
              "    <tr>\n",
              "      <th>5</th>\n",
              "      <td>spam</td>\n",
              "      <td>FreeMsg Hey there darling it's been 3 week's n...</td>\n",
              "    </tr>\n",
              "    <tr>\n",
              "      <th>8</th>\n",
              "      <td>spam</td>\n",
              "      <td>WINNER!! As a valued network customer you have...</td>\n",
              "    </tr>\n",
              "    <tr>\n",
              "      <th>9</th>\n",
              "      <td>spam</td>\n",
              "      <td>Had your mobile 11 months or more? U R entitle...</td>\n",
              "    </tr>\n",
              "    <tr>\n",
              "      <th>11</th>\n",
              "      <td>spam</td>\n",
              "      <td>SIX chances to win CASH! From 100 to 20,000 po...</td>\n",
              "    </tr>\n",
              "  </tbody>\n",
              "</table>\n",
              "</div>"
            ],
            "text/plain": [
              "      v1                                                 v2\n",
              "2   spam  Free entry in 2 a wkly comp to win FA Cup fina...\n",
              "5   spam  FreeMsg Hey there darling it's been 3 week's n...\n",
              "8   spam  WINNER!! As a valued network customer you have...\n",
              "9   spam  Had your mobile 11 months or more? U R entitle...\n",
              "11  spam  SIX chances to win CASH! From 100 to 20,000 po..."
            ]
          },
          "metadata": {
            "tags": []
          },
          "execution_count": 12
        }
      ]
    },
    {
      "cell_type": "code",
      "metadata": {
        "id": "SJoDTTVMZkn3",
        "colab_type": "code",
        "outputId": "ebc4cc14-abdf-4e40-830f-3b1bbdb9f883",
        "colab": {
          "base_uri": "https://localhost:8080/",
          "height": 69
        }
      },
      "source": [
        "df_com['v1'].value_counts()"
      ],
      "execution_count": 0,
      "outputs": [
        {
          "output_type": "execute_result",
          "data": {
            "text/plain": [
              "spam    747\n",
              "ham     747\n",
              "Name: v1, dtype: int64"
            ]
          },
          "metadata": {
            "tags": []
          },
          "execution_count": 13
        }
      ]
    },
    {
      "cell_type": "code",
      "metadata": {
        "id": "8QNq8DEyZkn5",
        "colab_type": "code",
        "colab": {}
      },
      "source": [
        "df_com.sort_index(axis='index',inplace=True)"
      ],
      "execution_count": 0,
      "outputs": []
    },
    {
      "cell_type": "code",
      "metadata": {
        "id": "3imVRB-uZkn7",
        "colab_type": "code",
        "outputId": "e8c8c5b4-9eb3-4145-8f21-efae74d84afc",
        "colab": {
          "base_uri": "https://localhost:8080/",
          "height": 198
        }
      },
      "source": [
        "df_com.head()"
      ],
      "execution_count": 0,
      "outputs": [
        {
          "output_type": "execute_result",
          "data": {
            "text/html": [
              "<div>\n",
              "<style scoped>\n",
              "    .dataframe tbody tr th:only-of-type {\n",
              "        vertical-align: middle;\n",
              "    }\n",
              "\n",
              "    .dataframe tbody tr th {\n",
              "        vertical-align: top;\n",
              "    }\n",
              "\n",
              "    .dataframe thead th {\n",
              "        text-align: right;\n",
              "    }\n",
              "</style>\n",
              "<table border=\"1\" class=\"dataframe\">\n",
              "  <thead>\n",
              "    <tr style=\"text-align: right;\">\n",
              "      <th></th>\n",
              "      <th>v1</th>\n",
              "      <th>v2</th>\n",
              "    </tr>\n",
              "  </thead>\n",
              "  <tbody>\n",
              "    <tr>\n",
              "      <th>2</th>\n",
              "      <td>spam</td>\n",
              "      <td>Free entry in 2 a wkly comp to win FA Cup fina...</td>\n",
              "    </tr>\n",
              "    <tr>\n",
              "      <th>5</th>\n",
              "      <td>spam</td>\n",
              "      <td>FreeMsg Hey there darling it's been 3 week's n...</td>\n",
              "    </tr>\n",
              "    <tr>\n",
              "      <th>8</th>\n",
              "      <td>spam</td>\n",
              "      <td>WINNER!! As a valued network customer you have...</td>\n",
              "    </tr>\n",
              "    <tr>\n",
              "      <th>9</th>\n",
              "      <td>spam</td>\n",
              "      <td>Had your mobile 11 months or more? U R entitle...</td>\n",
              "    </tr>\n",
              "    <tr>\n",
              "      <th>11</th>\n",
              "      <td>spam</td>\n",
              "      <td>SIX chances to win CASH! From 100 to 20,000 po...</td>\n",
              "    </tr>\n",
              "  </tbody>\n",
              "</table>\n",
              "</div>"
            ],
            "text/plain": [
              "      v1                                                 v2\n",
              "2   spam  Free entry in 2 a wkly comp to win FA Cup fina...\n",
              "5   spam  FreeMsg Hey there darling it's been 3 week's n...\n",
              "8   spam  WINNER!! As a valued network customer you have...\n",
              "9   spam  Had your mobile 11 months or more? U R entitle...\n",
              "11  spam  SIX chances to win CASH! From 100 to 20,000 po..."
            ]
          },
          "metadata": {
            "tags": []
          },
          "execution_count": 15
        }
      ]
    },
    {
      "cell_type": "code",
      "metadata": {
        "id": "1FD9VPc2Zkn8",
        "colab_type": "code",
        "colab": {}
      },
      "source": [
        "df_com['Label']=df_com['v1'].apply(lambda x: 0 if x=='spam' else 1)"
      ],
      "execution_count": 0,
      "outputs": []
    },
    {
      "cell_type": "code",
      "metadata": {
        "id": "qAUTgYlEMGJm",
        "colab_type": "code",
        "colab": {}
      },
      "source": [
        "df_com['Label']=df_com.Label.astype('category')"
      ],
      "execution_count": 0,
      "outputs": []
    },
    {
      "cell_type": "code",
      "metadata": {
        "id": "eeRopCFNZkn-",
        "colab_type": "code",
        "outputId": "9460ed26-b259-4c39-80dc-e19d11b96f57",
        "colab": {
          "base_uri": "https://localhost:8080/",
          "height": 86
        }
      },
      "source": [
        "df_com.dtypes"
      ],
      "execution_count": 0,
      "outputs": [
        {
          "output_type": "execute_result",
          "data": {
            "text/plain": [
              "v1         object\n",
              "v2         object\n",
              "Label    category\n",
              "dtype: object"
            ]
          },
          "metadata": {
            "tags": []
          },
          "execution_count": 18
        }
      ]
    },
    {
      "cell_type": "code",
      "metadata": {
        "id": "ElayTNCaZkn_",
        "colab_type": "code",
        "colab": {}
      },
      "source": [
        "from sklearn.model_selection import train_test_split"
      ],
      "execution_count": 0,
      "outputs": []
    },
    {
      "cell_type": "code",
      "metadata": {
        "scrolled": true,
        "id": "WEO9QLMBZkoA",
        "colab_type": "code",
        "colab": {}
      },
      "source": [
        "x_train,x_test,y_train,y_test = train_test_split(df_com['v2'].values, df_com['v1'].values, test_size=0.20, random_state=42,shuffle=True)"
      ],
      "execution_count": 0,
      "outputs": []
    },
    {
      "cell_type": "code",
      "metadata": {
        "id": "Em4yqrhoZkoC",
        "colab_type": "code",
        "outputId": "cae9fd34-b829-4c3c-b3aa-9eb7220dbfab",
        "colab": {
          "base_uri": "https://localhost:8080/",
          "height": 34
        }
      },
      "source": [
        "x_train.shape,x_test.shape,y_train.shape,y_test.shape"
      ],
      "execution_count": 0,
      "outputs": [
        {
          "output_type": "execute_result",
          "data": {
            "text/plain": [
              "((1195,), (299,), (1195,), (299,))"
            ]
          },
          "metadata": {
            "tags": []
          },
          "execution_count": 20
        }
      ]
    },
    {
      "cell_type": "code",
      "metadata": {
        "id": "qlwSy_dTZkoD",
        "colab_type": "code",
        "colab": {}
      },
      "source": [
        "from sklearn.feature_extraction.text import TfidfVectorizer"
      ],
      "execution_count": 0,
      "outputs": []
    },
    {
      "cell_type": "code",
      "metadata": {
        "id": "BpSpX6OOZkoF",
        "colab_type": "code",
        "colab": {}
      },
      "source": [
        "vector = TfidfVectorizer(stop_words='english')"
      ],
      "execution_count": 0,
      "outputs": []
    },
    {
      "cell_type": "code",
      "metadata": {
        "id": "r7jzdmGgZkoG",
        "colab_type": "code",
        "outputId": "309998c2-a79c-401f-d577-29618f39d027",
        "colab": {
          "base_uri": "https://localhost:8080/",
          "height": 34
        }
      },
      "source": [
        "x_train=vector.fit_transform (x_train)\n",
        "x_test = vector.transform(x_test)\n",
        "x_train.shape,x_test.shape"
      ],
      "execution_count": 0,
      "outputs": [
        {
          "output_type": "execute_result",
          "data": {
            "text/plain": [
              "((1195, 3807), (299, 3807))"
            ]
          },
          "metadata": {
            "tags": []
          },
          "execution_count": 23
        }
      ]
    },
    {
      "cell_type": "code",
      "metadata": {
        "id": "BoBozGAAZkoH",
        "colab_type": "code",
        "outputId": "f831a9b3-9b23-4cdb-95a5-b53e75cfc067",
        "colab": {
          "base_uri": "https://localhost:8080/",
          "height": 85
        }
      },
      "source": [
        "from sklearn.svm import SVC\n",
        "clf = SVC()\n",
        "clf.fit(x_train, y_train)"
      ],
      "execution_count": 0,
      "outputs": [
        {
          "output_type": "execute_result",
          "data": {
            "text/plain": [
              "SVC(C=1.0, break_ties=False, cache_size=200, class_weight=None, coef0=0.0,\n",
              "    decision_function_shape='ovr', degree=3, gamma='scale', kernel='rbf',\n",
              "    max_iter=-1, probability=False, random_state=None, shrinking=True,\n",
              "    tol=0.001, verbose=False)"
            ]
          },
          "metadata": {
            "tags": []
          },
          "execution_count": 24
        }
      ]
    },
    {
      "cell_type": "code",
      "metadata": {
        "scrolled": true,
        "id": "cfvK68FgZkoI",
        "colab_type": "code",
        "outputId": "4176a512-c1a4-45c7-c643-d67423de9755",
        "colab": {
          "base_uri": "https://localhost:8080/",
          "height": 170
        }
      },
      "source": [
        "from sklearn.metrics import confusion_matrix,classification_report\n",
        "print(classification_report(y_test,clf.predict(x_test)))"
      ],
      "execution_count": 0,
      "outputs": [
        {
          "output_type": "stream",
          "text": [
            "              precision    recall  f1-score   support\n",
            "\n",
            "         ham       0.94      0.99      0.97       158\n",
            "        spam       0.99      0.93      0.96       141\n",
            "\n",
            "    accuracy                           0.96       299\n",
            "   macro avg       0.97      0.96      0.96       299\n",
            "weighted avg       0.96      0.96      0.96       299\n",
            "\n"
          ],
          "name": "stdout"
        }
      ]
    },
    {
      "cell_type": "code",
      "metadata": {
        "id": "o9ZayeoRZkoJ",
        "colab_type": "code",
        "outputId": "5fbe713e-cfe3-42aa-fd28-2551d4addeae",
        "colab": {
          "base_uri": "https://localhost:8080/",
          "height": 111
        }
      },
      "source": [
        "df = pd.DataFrame(confusion_matrix(y_test,clf.predict(x_test)), index=['ham','spam'], columns=['ham','spam'])\n",
        "df"
      ],
      "execution_count": 0,
      "outputs": [
        {
          "output_type": "execute_result",
          "data": {
            "text/html": [
              "<div>\n",
              "<style scoped>\n",
              "    .dataframe tbody tr th:only-of-type {\n",
              "        vertical-align: middle;\n",
              "    }\n",
              "\n",
              "    .dataframe tbody tr th {\n",
              "        vertical-align: top;\n",
              "    }\n",
              "\n",
              "    .dataframe thead th {\n",
              "        text-align: right;\n",
              "    }\n",
              "</style>\n",
              "<table border=\"1\" class=\"dataframe\">\n",
              "  <thead>\n",
              "    <tr style=\"text-align: right;\">\n",
              "      <th></th>\n",
              "      <th>ham</th>\n",
              "      <th>spam</th>\n",
              "    </tr>\n",
              "  </thead>\n",
              "  <tbody>\n",
              "    <tr>\n",
              "      <th>ham</th>\n",
              "      <td>157</td>\n",
              "      <td>1</td>\n",
              "    </tr>\n",
              "    <tr>\n",
              "      <th>spam</th>\n",
              "      <td>10</td>\n",
              "      <td>131</td>\n",
              "    </tr>\n",
              "  </tbody>\n",
              "</table>\n",
              "</div>"
            ],
            "text/plain": [
              "      ham  spam\n",
              "ham   157     1\n",
              "spam   10   131"
            ]
          },
          "metadata": {
            "tags": []
          },
          "execution_count": 26
        }
      ]
    },
    {
      "cell_type": "code",
      "metadata": {
        "scrolled": true,
        "id": "_zkt1PJ6ZkoK",
        "colab_type": "code",
        "outputId": "435c2c8d-68d7-48bb-efee-6de0fa51d324",
        "colab": {
          "base_uri": "https://localhost:8080/",
          "height": 34
        }
      },
      "source": [
        "clf.score(x_test,y_test)"
      ],
      "execution_count": 0,
      "outputs": [
        {
          "output_type": "execute_result",
          "data": {
            "text/plain": [
              "0.9632107023411371"
            ]
          },
          "metadata": {
            "tags": []
          },
          "execution_count": 27
        }
      ]
    },
    {
      "cell_type": "code",
      "metadata": {
        "id": "ThbWlN3BZkoM",
        "colab_type": "code",
        "outputId": "0541e7a4-bfb1-4412-df2a-3939a0e1ea32",
        "colab": {
          "base_uri": "https://localhost:8080/",
          "height": 111
        }
      },
      "source": [
        "from sklearn.tree import DecisionTreeClassifier\n",
        "dt=DecisionTreeClassifier()\n",
        "dt.fit(x_train,y_train)\n",
        "df = pd.DataFrame(confusion_matrix(y_test,dt.predict(x_test)), index=['ham','spam'], columns=['ham','spam'])\n",
        "df"
      ],
      "execution_count": 0,
      "outputs": [
        {
          "output_type": "execute_result",
          "data": {
            "text/html": [
              "<div>\n",
              "<style scoped>\n",
              "    .dataframe tbody tr th:only-of-type {\n",
              "        vertical-align: middle;\n",
              "    }\n",
              "\n",
              "    .dataframe tbody tr th {\n",
              "        vertical-align: top;\n",
              "    }\n",
              "\n",
              "    .dataframe thead th {\n",
              "        text-align: right;\n",
              "    }\n",
              "</style>\n",
              "<table border=\"1\" class=\"dataframe\">\n",
              "  <thead>\n",
              "    <tr style=\"text-align: right;\">\n",
              "      <th></th>\n",
              "      <th>ham</th>\n",
              "      <th>spam</th>\n",
              "    </tr>\n",
              "  </thead>\n",
              "  <tbody>\n",
              "    <tr>\n",
              "      <th>ham</th>\n",
              "      <td>151</td>\n",
              "      <td>7</td>\n",
              "    </tr>\n",
              "    <tr>\n",
              "      <th>spam</th>\n",
              "      <td>11</td>\n",
              "      <td>130</td>\n",
              "    </tr>\n",
              "  </tbody>\n",
              "</table>\n",
              "</div>"
            ],
            "text/plain": [
              "      ham  spam\n",
              "ham   151     7\n",
              "spam   11   130"
            ]
          },
          "metadata": {
            "tags": []
          },
          "execution_count": 28
        }
      ]
    },
    {
      "cell_type": "code",
      "metadata": {
        "id": "AJYJ1QFIZkoN",
        "colab_type": "code",
        "outputId": "20902775-6e5b-4071-8f2e-ad4569f13535",
        "colab": {
          "base_uri": "https://localhost:8080/",
          "height": 34
        }
      },
      "source": [
        "dt.score(x_test,y_test)"
      ],
      "execution_count": 0,
      "outputs": [
        {
          "output_type": "execute_result",
          "data": {
            "text/plain": [
              "0.939799331103679"
            ]
          },
          "metadata": {
            "tags": []
          },
          "execution_count": 29
        }
      ]
    },
    {
      "cell_type": "code",
      "metadata": {
        "id": "txX8zPveZkoO",
        "colab_type": "code",
        "outputId": "1afda2a9-cb46-4fe5-9126-3390d89404f5",
        "colab": {
          "base_uri": "https://localhost:8080/",
          "height": 111
        }
      },
      "source": [
        "from sklearn.ensemble import AdaBoostClassifier,GradientBoostingClassifier\n",
        "ada = AdaBoostClassifier(n_estimators=1000, random_state=0)\n",
        "ada.fit(x_train,y_train)\n",
        "df = pd.DataFrame(confusion_matrix(y_test,ada.predict(x_test)), index=['ham','spam'], columns=['ham','spam'])\n",
        "df"
      ],
      "execution_count": 0,
      "outputs": [
        {
          "output_type": "execute_result",
          "data": {
            "text/html": [
              "<div>\n",
              "<style scoped>\n",
              "    .dataframe tbody tr th:only-of-type {\n",
              "        vertical-align: middle;\n",
              "    }\n",
              "\n",
              "    .dataframe tbody tr th {\n",
              "        vertical-align: top;\n",
              "    }\n",
              "\n",
              "    .dataframe thead th {\n",
              "        text-align: right;\n",
              "    }\n",
              "</style>\n",
              "<table border=\"1\" class=\"dataframe\">\n",
              "  <thead>\n",
              "    <tr style=\"text-align: right;\">\n",
              "      <th></th>\n",
              "      <th>ham</th>\n",
              "      <th>spam</th>\n",
              "    </tr>\n",
              "  </thead>\n",
              "  <tbody>\n",
              "    <tr>\n",
              "      <th>ham</th>\n",
              "      <td>152</td>\n",
              "      <td>6</td>\n",
              "    </tr>\n",
              "    <tr>\n",
              "      <th>spam</th>\n",
              "      <td>12</td>\n",
              "      <td>129</td>\n",
              "    </tr>\n",
              "  </tbody>\n",
              "</table>\n",
              "</div>"
            ],
            "text/plain": [
              "      ham  spam\n",
              "ham   152     6\n",
              "spam   12   129"
            ]
          },
          "metadata": {
            "tags": []
          },
          "execution_count": 30
        }
      ]
    },
    {
      "cell_type": "code",
      "metadata": {
        "id": "eRGBWi4FZkoP",
        "colab_type": "code",
        "outputId": "94e220e8-c4b2-43db-ffdf-d6ded48983ee",
        "colab": {
          "base_uri": "https://localhost:8080/",
          "height": 34
        }
      },
      "source": [
        "ada.score(x_test,y_test)"
      ],
      "execution_count": 0,
      "outputs": [
        {
          "output_type": "execute_result",
          "data": {
            "text/plain": [
              "0.939799331103679"
            ]
          },
          "metadata": {
            "tags": []
          },
          "execution_count": 31
        }
      ]
    },
    {
      "cell_type": "code",
      "metadata": {
        "id": "5CED6TZoZkoQ",
        "colab_type": "code",
        "outputId": "3f9dfcc2-09b8-40e4-90a9-4d8c9ff830f2",
        "colab": {
          "base_uri": "https://localhost:8080/",
          "height": 111
        }
      },
      "source": [
        "gb = GradientBoostingClassifier(n_estimators=1000)\n",
        "gb.fit(x_train,y_train)\n",
        "df = pd.DataFrame(confusion_matrix(y_test,gb.predict(x_test)), index=['ham','spam'], columns=['ham','spam'])\n",
        "df"
      ],
      "execution_count": 0,
      "outputs": [
        {
          "output_type": "execute_result",
          "data": {
            "text/html": [
              "<div>\n",
              "<style scoped>\n",
              "    .dataframe tbody tr th:only-of-type {\n",
              "        vertical-align: middle;\n",
              "    }\n",
              "\n",
              "    .dataframe tbody tr th {\n",
              "        vertical-align: top;\n",
              "    }\n",
              "\n",
              "    .dataframe thead th {\n",
              "        text-align: right;\n",
              "    }\n",
              "</style>\n",
              "<table border=\"1\" class=\"dataframe\">\n",
              "  <thead>\n",
              "    <tr style=\"text-align: right;\">\n",
              "      <th></th>\n",
              "      <th>ham</th>\n",
              "      <th>spam</th>\n",
              "    </tr>\n",
              "  </thead>\n",
              "  <tbody>\n",
              "    <tr>\n",
              "      <th>ham</th>\n",
              "      <td>157</td>\n",
              "      <td>1</td>\n",
              "    </tr>\n",
              "    <tr>\n",
              "      <th>spam</th>\n",
              "      <td>14</td>\n",
              "      <td>127</td>\n",
              "    </tr>\n",
              "  </tbody>\n",
              "</table>\n",
              "</div>"
            ],
            "text/plain": [
              "      ham  spam\n",
              "ham   157     1\n",
              "spam   14   127"
            ]
          },
          "metadata": {
            "tags": []
          },
          "execution_count": 32
        }
      ]
    },
    {
      "cell_type": "code",
      "metadata": {
        "id": "zm6URQLfZkoR",
        "colab_type": "code",
        "outputId": "5450e944-547d-4b07-854c-c8e8678abb18",
        "colab": {
          "base_uri": "https://localhost:8080/",
          "height": 34
        }
      },
      "source": [
        "gb.score(x_test,y_test)"
      ],
      "execution_count": 0,
      "outputs": [
        {
          "output_type": "execute_result",
          "data": {
            "text/plain": [
              "0.9498327759197325"
            ]
          },
          "metadata": {
            "tags": []
          },
          "execution_count": 33
        }
      ]
    },
    {
      "cell_type": "markdown",
      "metadata": {
        "id": "PTmHssYcZkoT",
        "colab_type": "text"
      },
      "source": [
        "# Neural Networks\n"
      ]
    },
    {
      "cell_type": "code",
      "metadata": {
        "id": "sXbKG_u4ZkoU",
        "colab_type": "code",
        "outputId": "516c4a7f-090a-4dd1-b14c-d20b67fb0ccd",
        "colab": {
          "base_uri": "https://localhost:8080/",
          "height": 52
        }
      },
      "source": [
        "import tensorflow as tf\n",
        "import keras\n",
        "from tensorflow.keras.preprocessing.text import Tokenizer\n",
        "from tensorflow.keras.preprocessing.sequence import pad_sequences\n",
        "print(tf.__version__)"
      ],
      "execution_count": 0,
      "outputs": [
        {
          "output_type": "stream",
          "text": [
            "2.2.0-rc2\n"
          ],
          "name": "stdout"
        },
        {
          "output_type": "stream",
          "text": [
            "Using TensorFlow backend.\n"
          ],
          "name": "stderr"
        }
      ]
    },
    {
      "cell_type": "code",
      "metadata": {
        "id": "9iM5N6cfZkoV",
        "colab_type": "code",
        "colab": {}
      },
      "source": [
        "tokenizer=Tokenizer()"
      ],
      "execution_count": 0,
      "outputs": []
    },
    {
      "cell_type": "code",
      "metadata": {
        "id": "cKLVwHBFbx3R",
        "colab_type": "code",
        "outputId": "4281584a-ce87-426e-f222-ae0f11a312a7",
        "colab": {
          "base_uri": "https://localhost:8080/",
          "height": 348
        }
      },
      "source": [
        "df_com.head(10)"
      ],
      "execution_count": 0,
      "outputs": [
        {
          "output_type": "execute_result",
          "data": {
            "text/html": [
              "<div>\n",
              "<style scoped>\n",
              "    .dataframe tbody tr th:only-of-type {\n",
              "        vertical-align: middle;\n",
              "    }\n",
              "\n",
              "    .dataframe tbody tr th {\n",
              "        vertical-align: top;\n",
              "    }\n",
              "\n",
              "    .dataframe thead th {\n",
              "        text-align: right;\n",
              "    }\n",
              "</style>\n",
              "<table border=\"1\" class=\"dataframe\">\n",
              "  <thead>\n",
              "    <tr style=\"text-align: right;\">\n",
              "      <th></th>\n",
              "      <th>v1</th>\n",
              "      <th>v2</th>\n",
              "      <th>Label</th>\n",
              "    </tr>\n",
              "  </thead>\n",
              "  <tbody>\n",
              "    <tr>\n",
              "      <th>2</th>\n",
              "      <td>spam</td>\n",
              "      <td>Free entry in 2 a wkly comp to win FA Cup fina...</td>\n",
              "      <td>0</td>\n",
              "    </tr>\n",
              "    <tr>\n",
              "      <th>5</th>\n",
              "      <td>spam</td>\n",
              "      <td>FreeMsg Hey there darling it's been 3 week's n...</td>\n",
              "      <td>0</td>\n",
              "    </tr>\n",
              "    <tr>\n",
              "      <th>8</th>\n",
              "      <td>spam</td>\n",
              "      <td>WINNER!! As a valued network customer you have...</td>\n",
              "      <td>0</td>\n",
              "    </tr>\n",
              "    <tr>\n",
              "      <th>9</th>\n",
              "      <td>spam</td>\n",
              "      <td>Had your mobile 11 months or more? U R entitle...</td>\n",
              "      <td>0</td>\n",
              "    </tr>\n",
              "    <tr>\n",
              "      <th>11</th>\n",
              "      <td>spam</td>\n",
              "      <td>SIX chances to win CASH! From 100 to 20,000 po...</td>\n",
              "      <td>0</td>\n",
              "    </tr>\n",
              "    <tr>\n",
              "      <th>12</th>\n",
              "      <td>spam</td>\n",
              "      <td>URGENT! You have won a 1 week FREE membership ...</td>\n",
              "      <td>0</td>\n",
              "    </tr>\n",
              "    <tr>\n",
              "      <th>14</th>\n",
              "      <td>ham</td>\n",
              "      <td>I HAVE A DATE ON SUNDAY WITH WILL!!</td>\n",
              "      <td>1</td>\n",
              "    </tr>\n",
              "    <tr>\n",
              "      <th>15</th>\n",
              "      <td>spam</td>\n",
              "      <td>XXXMobileMovieClub: To use your credit, click ...</td>\n",
              "      <td>0</td>\n",
              "    </tr>\n",
              "    <tr>\n",
              "      <th>19</th>\n",
              "      <td>spam</td>\n",
              "      <td>England v Macedonia - dont miss the goals/team...</td>\n",
              "      <td>0</td>\n",
              "    </tr>\n",
              "    <tr>\n",
              "      <th>20</th>\n",
              "      <td>ham</td>\n",
              "      <td>Is that seriously how you spell his name?</td>\n",
              "      <td>1</td>\n",
              "    </tr>\n",
              "  </tbody>\n",
              "</table>\n",
              "</div>"
            ],
            "text/plain": [
              "      v1                                                 v2 Label\n",
              "2   spam  Free entry in 2 a wkly comp to win FA Cup fina...     0\n",
              "5   spam  FreeMsg Hey there darling it's been 3 week's n...     0\n",
              "8   spam  WINNER!! As a valued network customer you have...     0\n",
              "9   spam  Had your mobile 11 months or more? U R entitle...     0\n",
              "11  spam  SIX chances to win CASH! From 100 to 20,000 po...     0\n",
              "12  spam  URGENT! You have won a 1 week FREE membership ...     0\n",
              "14   ham                I HAVE A DATE ON SUNDAY WITH WILL!!     1\n",
              "15  spam  XXXMobileMovieClub: To use your credit, click ...     0\n",
              "19  spam  England v Macedonia - dont miss the goals/team...     0\n",
              "20   ham          Is that seriously how you spell his name?     1"
            ]
          },
          "metadata": {
            "tags": []
          },
          "execution_count": 22
        }
      ]
    },
    {
      "cell_type": "code",
      "metadata": {
        "id": "mPDtsGmsEX4x",
        "colab_type": "code",
        "colab": {}
      },
      "source": [
        "x_train,x_test,y_train,y_test = train_test_split(df_com['v2'].values, df_com['Label'].values.astype('float'), test_size=0.20, random_state=42,shuffle=True)"
      ],
      "execution_count": 0,
      "outputs": []
    },
    {
      "cell_type": "code",
      "metadata": {
        "id": "yLpdX9EJplzn",
        "colab_type": "code",
        "colab": {}
      },
      "source": [
        "x_token = tokenizer.fit_on_texts(x_train)\n",
        "sequences_training= tokenizer.texts_to_sequences(x_train)\n",
        "sequences_testing = tokenizer.texts_to_sequences(x_test)"
      ],
      "execution_count": 0,
      "outputs": []
    },
    {
      "cell_type": "code",
      "metadata": {
        "id": "_mEc40bjqUo9",
        "colab_type": "code",
        "colab": {}
      },
      "source": [
        "from toolz.curried import count\n",
        "\n",
        "def longest(your_list): \n",
        "    return max(map(count, your_list))"
      ],
      "execution_count": 0,
      "outputs": []
    },
    {
      "cell_type": "code",
      "metadata": {
        "id": "MzfqJ57Cpr6x",
        "colab_type": "code",
        "outputId": "b260c019-4a2e-4127-ec64-10adcff1ed69",
        "colab": {
          "base_uri": "https://localhost:8080/",
          "height": 35
        }
      },
      "source": [
        "maxi=longest(sequences_training)\n",
        "print(maxi)"
      ],
      "execution_count": 0,
      "outputs": [
        {
          "output_type": "stream",
          "text": [
            "121\n"
          ],
          "name": "stdout"
        }
      ]
    },
    {
      "cell_type": "code",
      "metadata": {
        "id": "Sw2vpsIcqdI6",
        "colab_type": "code",
        "colab": {}
      },
      "source": [
        "padded_training = pad_sequences(sequences_training,maxlen=maxi,truncating='post',padding='post')\n",
        "padded_testing = pad_sequences(sequences_testing,maxlen=maxi,truncating='post',padding='post')"
      ],
      "execution_count": 0,
      "outputs": []
    },
    {
      "cell_type": "code",
      "metadata": {
        "id": "ijr2jMCZZkoe",
        "colab_type": "code",
        "outputId": "be8c76d6-79a1-4145-d16c-556fdd80930f",
        "colab": {
          "base_uri": "https://localhost:8080/",
          "height": 35
        }
      },
      "source": [
        "num_words = len(tokenizer.word_index)\n",
        "print(num_words)"
      ],
      "execution_count": 0,
      "outputs": [
        {
          "output_type": "stream",
          "text": [
            "4133\n"
          ],
          "name": "stdout"
        }
      ]
    },
    {
      "cell_type": "code",
      "metadata": {
        "id": "0ywLgH0fGmvt",
        "colab_type": "code",
        "colab": {}
      },
      "source": [
        "import os,random\n",
        "def clearance():\n",
        "    keras.backend.clear_session()\n",
        "    os.environ['PYTHONHASHSEED']='42'\n",
        "    np.random.seed(42)\n",
        "    tf.random.set_seed(seed=42)\n",
        "    np.random.RandomState(42)\n",
        "    random.seed(42)"
      ],
      "execution_count": 0,
      "outputs": []
    },
    {
      "cell_type": "code",
      "metadata": {
        "id": "2uX3I6tQRW3o",
        "colab_type": "code",
        "colab": {}
      },
      "source": [
        "clearance()"
      ],
      "execution_count": 0,
      "outputs": []
    },
    {
      "cell_type": "code",
      "metadata": {
        "id": "NdSX_iwix2Im",
        "colab_type": "code",
        "outputId": "5b0bd68a-1f2f-453c-af63-239e7f78d4f5",
        "colab": {
          "base_uri": "https://localhost:8080/",
          "height": 328
        }
      },
      "source": [
        "from tensorflow.keras.layers import Embedding, LSTM, Dense, Bidirectional\n",
        "\n",
        "model1=tf.keras.Sequential()\n",
        "model1.add(tf.keras.layers.Embedding(num_words+2,64,input_length=maxi))\n",
        "model1.add(tf.keras.layers.Flatten())\n",
        "model1.add(tf.keras.layers.Dense(30,activation='relu'))\n",
        "model1.add(tf.keras.layers.Dense(8,activation='relu'))\n",
        "model1.add(tf.keras.layers.Dense(1,activation='sigmoid'))\n",
        "\n",
        "model1.compile(loss='binary_crossentropy',optimizer='adam',metrics=['accuracy'])\n",
        "\n",
        "model1.summary()"
      ],
      "execution_count": 0,
      "outputs": [
        {
          "output_type": "stream",
          "text": [
            "Model: \"sequential\"\n",
            "_________________________________________________________________\n",
            "Layer (type)                 Output Shape              Param #   \n",
            "=================================================================\n",
            "embedding (Embedding)        (None, 121, 64)           264640    \n",
            "_________________________________________________________________\n",
            "flatten (Flatten)            (None, 7744)              0         \n",
            "_________________________________________________________________\n",
            "dense (Dense)                (None, 30)                232350    \n",
            "_________________________________________________________________\n",
            "dense_1 (Dense)              (None, 8)                 248       \n",
            "_________________________________________________________________\n",
            "dense_2 (Dense)              (None, 1)                 9         \n",
            "=================================================================\n",
            "Total params: 497,247\n",
            "Trainable params: 497,247\n",
            "Non-trainable params: 0\n",
            "_________________________________________________________________\n"
          ],
          "name": "stdout"
        }
      ]
    },
    {
      "cell_type": "code",
      "metadata": {
        "id": "N1pT4Lx9yCyp",
        "colab_type": "code",
        "outputId": "69a01345-75cb-471c-8505-4195d77abe9f",
        "colab": {
          "base_uri": "https://localhost:8080/",
          "height": 363
        }
      },
      "source": [
        "history=model1.fit(padded_training,y_train,\n",
        "                   epochs=10,\n",
        "                   validation_data=(padded_testing,y_test),\n",
        "                   batch_size=128)"
      ],
      "execution_count": 0,
      "outputs": [
        {
          "output_type": "stream",
          "text": [
            "Epoch 1/10\n",
            "10/10 [==============================] - 0s 25ms/step - loss: 0.6727 - accuracy: 0.6460 - val_loss: 0.6259 - val_accuracy: 0.8194\n",
            "Epoch 2/10\n",
            "10/10 [==============================] - 0s 17ms/step - loss: 0.5815 - accuracy: 0.8268 - val_loss: 0.4810 - val_accuracy: 0.8595\n",
            "Epoch 3/10\n",
            "10/10 [==============================] - 0s 16ms/step - loss: 0.4283 - accuracy: 0.8477 - val_loss: 0.3124 - val_accuracy: 0.8763\n",
            "Epoch 4/10\n",
            "10/10 [==============================] - 0s 16ms/step - loss: 0.3154 - accuracy: 0.8678 - val_loss: 0.2243 - val_accuracy: 0.9030\n",
            "Epoch 5/10\n",
            "10/10 [==============================] - 0s 16ms/step - loss: 0.2331 - accuracy: 0.9079 - val_loss: 0.1867 - val_accuracy: 0.9264\n",
            "Epoch 6/10\n",
            "10/10 [==============================] - 0s 18ms/step - loss: 0.1627 - accuracy: 0.9490 - val_loss: 0.1485 - val_accuracy: 0.9398\n",
            "Epoch 7/10\n",
            "10/10 [==============================] - 0s 16ms/step - loss: 0.1178 - accuracy: 0.9632 - val_loss: 0.1232 - val_accuracy: 0.9565\n",
            "Epoch 8/10\n",
            "10/10 [==============================] - 0s 16ms/step - loss: 0.0829 - accuracy: 0.9732 - val_loss: 0.1037 - val_accuracy: 0.9699\n",
            "Epoch 9/10\n",
            "10/10 [==============================] - 0s 16ms/step - loss: 0.0609 - accuracy: 0.9858 - val_loss: 0.0915 - val_accuracy: 0.9699\n",
            "Epoch 10/10\n",
            "10/10 [==============================] - 0s 16ms/step - loss: 0.0426 - accuracy: 0.9883 - val_loss: 0.0859 - val_accuracy: 0.9666\n"
          ],
          "name": "stdout"
        }
      ]
    },
    {
      "cell_type": "code",
      "metadata": {
        "id": "Z2JtAo6oyJIZ",
        "colab_type": "code",
        "outputId": "877b7d08-7467-4ec5-ced1-8565e849e384",
        "colab": {
          "base_uri": "https://localhost:8080/",
          "height": 266
        }
      },
      "source": [
        "import matplotlib.pyplot as plt\n",
        "plt.plot(history.history['val_accuracy'],color='r',label='Validation Accuracy')\n",
        "plt.plot(history.history['accuracy'],color='b',label='Training Accuracy')\n",
        "plt.legend()\n",
        "plt.show()"
      ],
      "execution_count": 0,
      "outputs": [
        {
          "output_type": "display_data",
          "data": {
            "image/png": "[encoded data removed]",
            "text/plain": [
              "<Figure size 432x288 with 1 Axes>"
            ]
          },
          "metadata": {
            "tags": [],
            "needs_background": "light"
          }
        }
      ]
    },
    {
      "cell_type": "code",
      "metadata": {
        "id": "bdrOQLyKZkof",
        "colab_type": "code",
        "outputId": "44a760d7-7eff-41d2-c60e-758293c261eb",
        "colab": {
          "base_uri": "https://localhost:8080/",
          "height": 363
        }
      },
      "source": [
        "\n",
        "model2=tf.keras.Sequential()\n",
        "model2.add(tf.keras.layers.Embedding(num_words+2,64,input_length=maxi))\n",
        "model2.add(tf.keras.layers.Bidirectional(tf.keras.layers.LSTM(64,return_sequences=True)))\n",
        "model2.add(tf.keras.layers.LSTM(64,return_sequences=True))\n",
        "model2.add(tf.keras.layers.Flatten())\n",
        "model2.add(tf.keras.layers.Dense(30))\n",
        "model2.add(tf.keras.layers.Dense(1,activation='sigmoid'))\n",
        "\n",
        "model2.compile(loss='binary_crossentropy',optimizer='adam',metrics=['accuracy'])\n",
        "\n",
        "model2.summary()"
      ],
      "execution_count": 0,
      "outputs": [
        {
          "output_type": "stream",
          "text": [
            "Model: \"sequential\"\n",
            "_________________________________________________________________\n",
            "Layer (type)                 Output Shape              Param #   \n",
            "=================================================================\n",
            "embedding (Embedding)        (None, 121, 64)           264640    \n",
            "_________________________________________________________________\n",
            "bidirectional (Bidirectional (None, 121, 128)          66048     \n",
            "_________________________________________________________________\n",
            "lstm_1 (LSTM)                (None, 121, 64)           49408     \n",
            "_________________________________________________________________\n",
            "flatten (Flatten)            (None, 7744)              0         \n",
            "_________________________________________________________________\n",
            "dense (Dense)                (None, 30)                232350    \n",
            "_________________________________________________________________\n",
            "dense_1 (Dense)              (None, 1)                 31        \n",
            "=================================================================\n",
            "Total params: 612,477\n",
            "Trainable params: 612,477\n",
            "Non-trainable params: 0\n",
            "_________________________________________________________________\n"
          ],
          "name": "stdout"
        }
      ]
    },
    {
      "cell_type": "code",
      "metadata": {
        "id": "crPYWeY2Zkoh",
        "colab_type": "code",
        "outputId": "f7b28ba3-dd52-4933-ce80-92c232f0c27f",
        "colab": {
          "base_uri": "https://localhost:8080/",
          "height": 363
        }
      },
      "source": [
        "history=model2.fit(padded_training,y_train,\n",
        "                   epochs=10,\n",
        "                   validation_data=(padded_testing,y_test),\n",
        "                   batch_size=128)"
      ],
      "execution_count": 0,
      "outputs": [
        {
          "output_type": "stream",
          "text": [
            "Epoch 1/10\n",
            "10/10 [==============================] - 6s 557ms/step - loss: 0.6172 - accuracy: 0.6879 - val_loss: 0.3579 - val_accuracy: 0.8662\n",
            "Epoch 2/10\n",
            "10/10 [==============================] - 4s 449ms/step - loss: 0.3052 - accuracy: 0.8636 - val_loss: 0.1554 - val_accuracy: 0.9264\n",
            "Epoch 3/10\n",
            "10/10 [==============================] - 4s 448ms/step - loss: 0.0980 - accuracy: 0.9665 - val_loss: 0.1583 - val_accuracy: 0.9465\n",
            "Epoch 4/10\n",
            "10/10 [==============================] - 4s 447ms/step - loss: 0.0286 - accuracy: 0.9891 - val_loss: 0.1590 - val_accuracy: 0.9431\n",
            "Epoch 5/10\n",
            "10/10 [==============================] - 4s 441ms/step - loss: 0.0118 - accuracy: 0.9975 - val_loss: 0.1968 - val_accuracy: 0.9666\n",
            "Epoch 6/10\n",
            "10/10 [==============================] - 5s 453ms/step - loss: 0.0046 - accuracy: 0.9983 - val_loss: 0.3746 - val_accuracy: 0.9465\n",
            "Epoch 7/10\n",
            "10/10 [==============================] - 4s 450ms/step - loss: 0.0025 - accuracy: 0.9992 - val_loss: 0.1608 - val_accuracy: 0.9565\n",
            "Epoch 8/10\n",
            "10/10 [==============================] - 4s 448ms/step - loss: 0.0012 - accuracy: 0.9992 - val_loss: 0.1628 - val_accuracy: 0.9632\n",
            "Epoch 9/10\n",
            "10/10 [==============================] - 4s 445ms/step - loss: 9.4136e-04 - accuracy: 1.0000 - val_loss: 0.1778 - val_accuracy: 0.9565\n",
            "Epoch 10/10\n",
            "10/10 [==============================] - 4s 450ms/step - loss: 3.2134e-04 - accuracy: 1.0000 - val_loss: 0.1997 - val_accuracy: 0.9599\n"
          ],
          "name": "stdout"
        }
      ]
    },
    {
      "cell_type": "code",
      "metadata": {
        "id": "fauOO9UnrEE9",
        "colab_type": "code",
        "outputId": "17a2be1c-d624-40b9-cbbc-878c4689d02d",
        "colab": {
          "base_uri": "https://localhost:8080/",
          "height": 265
        }
      },
      "source": [
        "import matplotlib.pyplot as plt\n",
        "plt.plot(history.history['val_accuracy'],color='r',label='Validation Accuracy')\n",
        "plt.plot(history.history['accuracy'],color='b',label='Training Accuracy')\n",
        "plt.legend()\n",
        "plt.show()"
      ],
      "execution_count": 0,
      "outputs": [
        {
          "output_type": "display_data",
          "data": {
            "image/png": "[encoded data removed]",
            "text/plain": [
              "<Figure size 432x288 with 1 Axes>"
            ]
          },
          "metadata": {
            "tags": [],
            "needs_background": "light"
          }
        }
      ]
    },
    {
      "cell_type": "code",
      "metadata": {
        "id": "a0QFZW1LQHlF",
        "colab_type": "code",
        "colab": {}
      },
      "source": [
        "clearance()"
      ],
      "execution_count": 0,
      "outputs": []
    },
    {
      "cell_type": "code",
      "metadata": {
        "id": "2D6_pNxK383w",
        "colab_type": "code",
        "outputId": "285492c4-5da5-452c-bc74-2ed10745fb55",
        "colab": {
          "base_uri": "https://localhost:8080/",
          "height": 397
        }
      },
      "source": [
        "\n",
        "model3=tf.keras.Sequential()\n",
        "model3.add(tf.keras.layers.Embedding(num_words+2,300,input_length=maxi))\n",
        "model3.add(tf.keras.layers.Conv1D(32, 5))\n",
        "model3.add(tf.keras.layers.Bidirectional(tf.keras.layers.LSTM(64,return_sequences=True)))\n",
        "# model3.add(tf.keras.layers.LSTM(64,return_sequences=True))\n",
        "model3.add(tf.keras.layers.Flatten())\n",
        "model3.add(tf.keras.layers.Dropout(0.2))\n",
        "model3.add(tf.keras.layers.Dense(30,activation='relu'))\n",
        "model3.add(tf.keras.layers.Dense(1,activation='sigmoid'))\n",
        "\n",
        "model3.compile(loss='binary_crossentropy',optimizer='adam',metrics=['accuracy'])\n",
        "\n",
        "model3.summary()\n"
      ],
      "execution_count": 0,
      "outputs": [
        {
          "output_type": "stream",
          "text": [
            "Model: \"sequential\"\n",
            "_________________________________________________________________\n",
            "Layer (type)                 Output Shape              Param #   \n",
            "=================================================================\n",
            "embedding (Embedding)        (None, 121, 300)          1240500   \n",
            "_________________________________________________________________\n",
            "conv1d (Conv1D)              (None, 117, 32)           48032     \n",
            "_________________________________________________________________\n",
            "bidirectional (Bidirectional (None, 117, 128)          49664     \n",
            "_________________________________________________________________\n",
            "flatten (Flatten)            (None, 14976)             0         \n",
            "_________________________________________________________________\n",
            "dropout (Dropout)            (None, 14976)             0         \n",
            "_________________________________________________________________\n",
            "dense (Dense)                (None, 30)                449310    \n",
            "_________________________________________________________________\n",
            "dense_1 (Dense)              (None, 1)                 31        \n",
            "=================================================================\n",
            "Total params: 1,787,537\n",
            "Trainable params: 1,787,537\n",
            "Non-trainable params: 0\n",
            "_________________________________________________________________\n"
          ],
          "name": "stdout"
        }
      ]
    },
    {
      "cell_type": "code",
      "metadata": {
        "id": "V5kqLpFu_jPb",
        "colab_type": "code",
        "outputId": "a3edba92-1371-4ccc-ba89-23d22a555364",
        "colab": {
          "base_uri": "https://localhost:8080/",
          "height": 363
        }
      },
      "source": [
        "history=model3.fit(padded_training,y_train,\n",
        "                   epochs=10,\n",
        "                   validation_data=(padded_testing,y_test),\n",
        "                   batch_size=128)"
      ],
      "execution_count": 0,
      "outputs": [
        {
          "output_type": "stream",
          "text": [
            "Epoch 1/10\n",
            "10/10 [==============================] - 5s 469ms/step - loss: 0.5245 - accuracy: 0.7188 - val_loss: 0.2599 - val_accuracy: 0.8930\n",
            "Epoch 2/10\n",
            "10/10 [==============================] - 4s 397ms/step - loss: 0.2481 - accuracy: 0.9063 - val_loss: 0.1244 - val_accuracy: 0.9398\n",
            "Epoch 3/10\n",
            "10/10 [==============================] - 4s 404ms/step - loss: 0.0655 - accuracy: 0.9749 - val_loss: 0.1023 - val_accuracy: 0.9666\n",
            "Epoch 4/10\n",
            "10/10 [==============================] - 4s 400ms/step - loss: 0.0289 - accuracy: 0.9941 - val_loss: 0.1340 - val_accuracy: 0.9632\n",
            "Epoch 5/10\n",
            "10/10 [==============================] - 4s 398ms/step - loss: 0.0164 - accuracy: 0.9967 - val_loss: 0.1461 - val_accuracy: 0.9666\n",
            "Epoch 6/10\n",
            "10/10 [==============================] - 4s 403ms/step - loss: 0.0089 - accuracy: 0.9983 - val_loss: 0.1428 - val_accuracy: 0.9666\n",
            "Epoch 7/10\n",
            "10/10 [==============================] - 4s 399ms/step - loss: 0.0040 - accuracy: 0.9992 - val_loss: 0.1561 - val_accuracy: 0.9699\n",
            "Epoch 8/10\n",
            "10/10 [==============================] - 4s 405ms/step - loss: 0.0022 - accuracy: 1.0000 - val_loss: 0.1807 - val_accuracy: 0.9699\n",
            "Epoch 9/10\n",
            "10/10 [==============================] - 4s 397ms/step - loss: 0.0011 - accuracy: 0.9992 - val_loss: 0.2040 - val_accuracy: 0.9699\n",
            "Epoch 10/10\n",
            "10/10 [==============================] - 4s 403ms/step - loss: 2.5183e-04 - accuracy: 1.0000 - val_loss: 0.2206 - val_accuracy: 0.9666\n"
          ],
          "name": "stdout"
        }
      ]
    },
    {
      "cell_type": "code",
      "metadata": {
        "id": "S4rEaQLF_xEo",
        "colab_type": "code",
        "outputId": "fc0c2e7a-3743-408d-d370-67c771eaced3",
        "colab": {
          "base_uri": "https://localhost:8080/",
          "height": 265
        }
      },
      "source": [
        "import matplotlib.pyplot as plt\n",
        "plt.plot(history.history['val_accuracy'],color='r',label='Validation Accuracy')\n",
        "plt.plot(history.history['accuracy'],color='b',label='Training Accuracy')\n",
        "plt.legend()\n",
        "plt.show()"
      ],
      "execution_count": 0,
      "outputs": [
        {
          "output_type": "display_data",
          "data": {
            "image/png": "[encoded data removed]",
            "text/plain": [
              "<Figure size 432x288 with 1 Axes>"
            ]
          },
          "metadata": {
            "tags": [],
            "needs_background": "light"
          }
        }
      ]
    },
    {
      "cell_type": "code",
      "metadata": {
        "id": "XZSvVebZrWN0",
        "colab_type": "code",
        "outputId": "77b3a372-6d51-4cc2-efca-974351f1985d",
        "colab": {
          "base_uri": "https://localhost:8080/",
          "height": 190
        }
      },
      "source": [
        "random=['Congrats! 1 year special cinema pass for 2 is yours. call 09061209465 now! C Suprman V, Matrix3, StarWars3, etc all 4 FREE! bx420-ip4-5we. 150pm. Dont miss out!',\n",
        "        'IMPORTANT - You could be entitled up to £3,160 in compensation from mis-sold PPI on a credit card or loan. Please reply PPI for info or STOP to opt out.',\n",
        "        'You have still not claimed the compensation you are due for the accident you had. To start the process please reply YES. To opt out text STOP',\n",
        "        'Hi my name is Saad. And this is the Ham message',\n",
        "        'Free entry in 2 a wkly comp to win FA Cup final tkts 21st May 2005. Text FA to 87121 to receive entry question(std txt rate)T&C\\'s apply 08452810075over18\\'s'\n",
        "        ]\n",
        "for item in random:\n",
        "    r = tokenizer.texts_to_sequences(item)\n",
        "\n",
        "    flat_list = []\n",
        "    for sublist in r:\n",
        "        for item in sublist:\n",
        "            flat_list.append(item)\n",
        "\n",
        "    flat_list = [flat_list]\n",
        "\n",
        "    r_padded = pad_sequences(flat_list,maxlen=maxi,truncating='post',padding='post')\n",
        "    prediction_1,prediction_2,prediction_3 = np.round(model1.predict(r_padded)),np.round(model2.predict(r_padded)),np.round(model3.predict(r_padded))\n",
        "    print(prediction_1,prediction_2,prediction_3)\n",
        "    print('-----------')"
      ],
      "execution_count": 0,
      "outputs": [
        {
          "output_type": "stream",
          "text": [
            "[[0.]] [[0.]] [[1.]]\n",
            "-----------\n",
            "[[1.]] [[0.]] [[0.]]\n",
            "-----------\n",
            "[[0.]] [[0.]] [[1.]]\n",
            "-----------\n",
            "[[1.]] [[1.]] [[1.]]\n",
            "-----------\n",
            "[[1.]] [[0.]] [[1.]]\n",
            "-----------\n"
          ],
          "name": "stdout"
        }
      ]
    }
  ]
}